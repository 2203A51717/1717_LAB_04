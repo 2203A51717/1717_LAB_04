{
  "cells": [
    {
      "cell_type": "markdown",
      "metadata": {
        "id": "S-d_7PSRCSGU"
      },
      "source": []
    },
    {
      "cell_type": "markdown",
      "metadata": {
        "id": "LQihDjooCUw-"
      },
      "source": [
        "TOKENIZATION\n"
      ]
    },
    {
      "cell_type": "code",
      "execution_count": 3,
      "metadata": {
        "colab": {
          "base_uri": "https://localhost:8080/"
        },
        "id": "ZqaCObMNCprG",
        "outputId": "31ffdf9b-bc4d-4dd2-89cc-095bd47b19b1"
      },
      "outputs": [
        {
          "name": "stdout",
          "output_type": "stream",
          "text": [
            "Word Tokens: ['Hello', '!', 'This', 'is', 'Varshini', 'I', 'Love', 'to', 'Listen', 'Songs', '.']\n"
          ]
        },
        {
          "name": "stderr",
          "output_type": "stream",
          "text": [
            "[nltk_data] Downloading package punkt_tab to /root/nltk_data...\n",
            "[nltk_data]   Package punkt_tab is already up-to-date!\n"
          ]
        }
      ],
      "source": [
        "import nltk\n",
        "from nltk.tokenize import word_tokenize, sent_tokenize, RegexpTokenizer\n",
        "\n",
        "# Download necessary data\n",
        "nltk.download('punkt_tab')\n",
        "\n",
        "def tokenize_words(text):\n",
        "    return word_tokenize(text)\n",
        "\n",
        "def tokenize_sentences(text):\n",
        "    return sent_tokenize(text)\n",
        "\n",
        "def tokenize_characters(text):\n",
        "    return list(text)\n",
        "\n",
        "# Example text\n",
        "text = \"Hello! This is Varshini I Love to Listen Songs.\"\n",
        "\n",
        "# Tokenization\n",
        "word_tokens = tokenize_words(text)\n",
        "\n",
        "# Output results\n",
        "print(\"Word Tokens:\", word_tokens)"
      ]
    },
    {
      "cell_type": "markdown",
      "metadata": {
        "id": "TJCH1azmDc_9"
      },
      "source": [
        "REMOVING STOPWORDS"
      ]
    },
    {
      "cell_type": "code",
      "execution_count": 4,
      "metadata": {
        "colab": {
          "base_uri": "https://localhost:8080/"
        },
        "id": "NRZiE0LADXyK",
        "outputId": "817e7b36-58e8-4101-cb64-41a5d19cf440"
      },
      "outputs": [
        {
          "name": "stdout",
          "output_type": "stream",
          "text": [
            "Filtered Tokens (without stop words): ['Hello', '!', 'Varshini', 'Love', 'Listen', 'Songs', '.']\n"
          ]
        },
        {
          "name": "stderr",
          "output_type": "stream",
          "text": [
            "[nltk_data] Downloading package stopwords to /root/nltk_data...\n",
            "[nltk_data]   Package stopwords is already up-to-date!\n"
          ]
        }
      ],
      "source": [
        "from nltk.corpus import stopwords\n",
        "nltk.download('stopwords')\n",
        "\n",
        "# Removing Stop Words\n",
        "stop_words = set(stopwords.words('english'))\n",
        "filtered_tokens = [word for word in word_tokens if word.lower() not in stop_words]\n",
        "\n",
        "# Output results\n",
        "print(\"Filtered Tokens (without stop words):\", filtered_tokens)"
      ]
    },
    {
      "cell_type": "markdown",
      "metadata": {
        "id": "k2OwHZ3qDkmg"
      },
      "source": [
        "REMOVING PUNCTUATIONS"
      ]
    },
    {
      "cell_type": "code",
      "execution_count": 5,
      "metadata": {
        "colab": {
          "base_uri": "https://localhost:8080/"
        },
        "id": "4UYCFXevDreQ",
        "outputId": "6d2528be-712f-4eca-97c1-f15592432955"
      },
      "outputs": [
        {
          "name": "stdout",
          "output_type": "stream",
          "text": [
            "Text without Punctuation: Hello This is Varshini I Love to Listen Songs\n"
          ]
        }
      ],
      "source": [
        "import string\n",
        "\n",
        "# Example text\n",
        "text = \"Hello! This is Varshini I Love to Listen Songs.\"\n",
        "\n",
        "# Removing punctuations\n",
        "no_punct_text = \"\".join([char for char in text if char not in string.punctuation])\n",
        "\n",
        "# Output results\n",
        "print(\"Text without Punctuation:\", no_punct_text)\n"
      ]
    },
    {
      "cell_type": "markdown",
      "metadata": {
        "id": "NJIJWfH9D2Bc"
      },
      "source": [
        "STEMMING"
      ]
    },
    {
      "cell_type": "code",
      "execution_count": 6,
      "metadata": {
        "colab": {
          "base_uri": "https://localhost:8080/"
        },
        "id": "jsSAK4u0D3rV",
        "outputId": "d05a6c6f-6633-4894-fdc0-7365f20ad78f"
      },
      "outputs": [
        {
          "name": "stdout",
          "output_type": "stream",
          "text": [
            "Stemmed Tokens: ['hello', '!', 'varshini', 'love', 'listen', 'song', '.']\n"
          ]
        }
      ],
      "source": [
        "from nltk.stem import PorterStemmer\n",
        "\n",
        "# Stemming\n",
        "stemmer = PorterStemmer()\n",
        "stemmed_tokens = [stemmer.stem(word) for word in filtered_tokens]\n",
        "\n",
        "# Output results\n",
        "print(\"Stemmed Tokens:\", stemmed_tokens)\n"
      ]
    },
    {
      "cell_type": "markdown",
      "metadata": {
        "id": "AIQi4qk0EPOV"
      },
      "source": [
        "LEMMOTIZATION"
      ]
    },
    {
      "cell_type": "code",
      "execution_count": 7,
      "metadata": {
        "colab": {
          "base_uri": "https://localhost:8080/"
        },
        "id": "4z0Nm2GBER7p",
        "outputId": "3995396f-6e77-4921-f561-fe0ef32eabb8"
      },
      "outputs": [
        {
          "name": "stderr",
          "output_type": "stream",
          "text": [
            "[nltk_data] Downloading package wordnet to /root/nltk_data...\n",
            "[nltk_data]   Package wordnet is already up-to-date!\n",
            "[nltk_data] Downloading package omw-1.4 to /root/nltk_data...\n",
            "[nltk_data]   Package omw-1.4 is already up-to-date!\n"
          ]
        },
        {
          "name": "stdout",
          "output_type": "stream",
          "text": [
            "Lemmatized Tokens: ['Hello', '!', 'Varshini', 'Love', 'Listen', 'Songs', '.']\n"
          ]
        }
      ],
      "source": [
        "from nltk.stem import WordNetLemmatizer\n",
        "nltk.download('wordnet')\n",
        "nltk.download('omw-1.4')\n",
        "\n",
        "# Lemmatization\n",
        "lemmatizer = WordNetLemmatizer()\n",
        "lemmatized_tokens = [lemmatizer.lemmatize(word) for word in filtered_tokens]\n",
        "\n",
        "# Output results\n",
        "print(\"Lemmatized Tokens:\", lemmatized_tokens)\n"
      ]
    },
    {
      "cell_type": "markdown",
      "metadata": {
        "id": "LJLLLu6AEsra"
      },
      "source": [
        "APPLY BI-GRAM"
      ]
    },
    {
      "cell_type": "code",
      "execution_count": 8,
      "metadata": {
        "colab": {
          "base_uri": "https://localhost:8080/"
        },
        "id": "K-QXTxwaEngf",
        "outputId": "cd4a8c1d-f5d1-465b-9947-b69a2a6a44e4"
      },
      "outputs": [
        {
          "name": "stdout",
          "output_type": "stream",
          "text": [
            "Bigrams: [('Hello', 'Varshini'), ('Varshini', 'Love'), ('Love', 'Listen'), ('Listen', 'Songs')]\n"
          ]
        },
        {
          "name": "stderr",
          "output_type": "stream",
          "text": [
            "[nltk_data] Downloading package punkt to /root/nltk_data...\n",
            "[nltk_data]   Package punkt is already up-to-date!\n",
            "[nltk_data] Downloading package stopwords to /root/nltk_data...\n",
            "[nltk_data]   Package stopwords is already up-to-date!\n"
          ]
        }
      ],
      "source": [
        "import nltk\n",
        "from nltk.util import ngrams\n",
        "from nltk.tokenize import word_tokenize\n",
        "from nltk.corpus import stopwords\n",
        "import string\n",
        "\n",
        "# Download necessary data\n",
        "nltk.download('punkt')\n",
        "nltk.download('stopwords')\n",
        "\n",
        "# Example text\n",
        "text = \"Hello! This is Varshini I Love to Listen Songs.\"\n",
        "\n",
        "# Removing Punctuations\n",
        "no_punct_text = \"\".join([char for char in text if char not in string.punctuation])\n",
        "\n",
        "# Tokenization\n",
        "word_tokens = word_tokenize(no_punct_text)\n",
        "\n",
        "# Removing Stop Words\n",
        "stop_words = set(stopwords.words('english'))\n",
        "filtered_tokens = [word for word in word_tokens if word.lower() not in stop_words]\n",
        "\n",
        "# Generating BI-GRAMs\n",
        "bigrams = list(ngrams(filtered_tokens, 2))\n",
        "\n",
        "# Output results\n",
        "print(\"Bigrams:\", bigrams)\n"
      ]
    },
    {
      "cell_type": "markdown",
      "metadata": {
        "id": "iCXpEbKkEyW4"
      },
      "source": [
        "APPLY TRI-GRAM"
      ]
    },
    {
      "cell_type": "code",
      "execution_count": 9,
      "metadata": {
        "colab": {
          "base_uri": "https://localhost:8080/"
        },
        "id": "KR3x2k65E1nn",
        "outputId": "50a63933-b5ea-4726-be9c-d3855fbf0787"
      },
      "outputs": [
        {
          "name": "stdout",
          "output_type": "stream",
          "text": [
            "Trigrams: [('Hello', 'Varshini', 'Love'), ('Varshini', 'Love', 'Listen'), ('Love', 'Listen', 'Songs')]\n"
          ]
        },
        {
          "name": "stderr",
          "output_type": "stream",
          "text": [
            "[nltk_data] Downloading package punkt to /root/nltk_data...\n",
            "[nltk_data]   Package punkt is already up-to-date!\n",
            "[nltk_data] Downloading package stopwords to /root/nltk_data...\n",
            "[nltk_data]   Package stopwords is already up-to-date!\n"
          ]
        }
      ],
      "source": [
        "import nltk\n",
        "from nltk.util import ngrams\n",
        "from nltk.tokenize import word_tokenize\n",
        "from nltk.corpus import stopwords\n",
        "import string\n",
        "\n",
        "# Download necessary data\n",
        "nltk.download('punkt')\n",
        "nltk.download('stopwords')\n",
        "\n",
        "# Example text\n",
        "text = \"Hello! This is Varshini I Love to Listen Songs.\"\n",
        "\n",
        "# Removing Punctuations\n",
        "no_punct_text = \"\".join([char for char in text if char not in string.punctuation])\n",
        "\n",
        "# Tokenization\n",
        "word_tokens = word_tokenize(no_punct_text)\n",
        "\n",
        "# Removing Stop Words\n",
        "stop_words = set(stopwords.words('english'))\n",
        "filtered_tokens = [word for word in word_tokens if word.lower() not in stop_words]\n",
        "\n",
        "# Generating TRI-GRAMs\n",
        "trigrams = list(ngrams(filtered_tokens, 3))\n",
        "\n",
        "# Output results\n",
        "print(\"Trigrams:\", trigrams)\n"
      ]
    }
  ],
  "metadata": {
    "colab": {
      "provenance": []
    },
    "kernelspec": {
      "display_name": "Python 3",
      "name": "python3"
    },
    "language_info": {
      "name": "python"
    }
  },
  "nbformat": 4,
  "nbformat_minor": 0
}
